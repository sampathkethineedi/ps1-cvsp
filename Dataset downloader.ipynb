{
 "cells": [
  {
   "cell_type": "code",
   "execution_count": 2,
   "metadata": {},
   "outputs": [],
   "source": [
    "import argparse\n",
    "import os\n",
    "import os.path as op\n",
    "import urllib.request\n",
    "from tqdm import tqdm\n",
    "\n",
    "LANG_CODE_2_TO_3 = {\n",
    "    'fr': 'fra', 'de': 'deu', 'nl': 'nld', 'ru': 'rus', 'en': 'eng', 'es': 'spa'\n",
    "}"
   ]
  },
  {
   "cell_type": "code",
   "execution_count": 11,
   "metadata": {},
   "outputs": [],
   "source": [
    "LANG_TO_CODE = {\n",
    "    'French': 'fr',\n",
    "    'German': 'de',\n",
    "    'Dutch': 'nl',\n",
    "    'Russian': 'ru',\n",
    "    'Spanish': 'es',\n",
    "    'Italian': 'it',\n",
    "    'Turkish': 'tr',\n",
    "    'Persian': 'fa',\n",
    "    'Swedish': 'sv-SE',\n",
    "    'Mongolian': 'mn',\n",
    "    'Chinese': 'zh-CN'\n",
    "}"
   ]
  },
  {
   "cell_type": "code",
   "execution_count": 15,
   "metadata": {},
   "outputs": [],
   "source": [
    "for lang in LANG_TO_CODE:\n",
    "    lang_data_path = op.join('./data', lang)\n",
    "    if not op.isdir(lang_data_path):\n",
    "        os.makedirs(lang_data_path)\n",
    "#         print(lang_data_path);\n",
    "#         print('not there')\n",
    "        \n",
    "    pathToFile = op.join(lang_data_path, f'{LANG_TO_CODE[lang]}.tar.gz')\n",
    "    url = f'https://voice-prod-bundler-ee1969a6ce8178826482b88e843c335139bd3fb4.s3.amazonaws.com/cv-corpus-3/{LANG_TO_CODE[lang]}.tar.gz'\n",
    "    urllib.request.urlretrieve(url, pathToFile)\n",
    "#     print(url);"
   ]
  },
  {
   "cell_type": "code",
   "execution_count": 5,
   "metadata": {},
   "outputs": [
    {
     "name": "stdout",
     "output_type": "stream",
     "text": [
      "French: 162340\n",
      "German: 293932\n",
      "Dutch: 22232\n",
      "Russian: 21598\n",
      "Spanish: 27329\n",
      "Italian: 30274\n",
      "Turkish: 9700\n",
      "Persian: 56394\n",
      "Swedish: 4113\n",
      "Mongolian: 6306\n",
      "Chinese: 7013\n"
     ]
    }
   ],
   "source": [
    "Languages = [\n",
    "    'French',\n",
    "    'German',\n",
    "    'Dutch',\n",
    "    'Russian',\n",
    "    'Spanish',\n",
    "    'Italian',\n",
    "    'Turkish',\n",
    "    'Persian',\n",
    "    'Swedish',\n",
    "    'Mongolian',\n",
    "    'Chinese'\n",
    "    ]\n",
    "for language in Languages:\n",
    "    files = os.listdir(f'./Image_Data/{language}')\n",
    "    print(f'{language}: {len(files)}')"
   ]
  },
  {
   "cell_type": "code",
   "execution_count": 6,
   "metadata": {},
   "outputs": [
    {
     "name": "stdout",
     "output_type": "stream",
     "text": [
      "Chinese: 16387\n"
     ]
    }
   ],
   "source": [
    "files = os.listdir(f'./Image_Data/French')\n",
    "print(f'{language}: {len(files)}')"
   ]
  },
  {
   "cell_type": "code",
   "execution_count": null,
   "metadata": {},
   "outputs": [],
   "source": []
  }
 ],
 "metadata": {
  "environment": {
   "name": "tf2-gpu.2-1.m46",
   "type": "gcloud",
   "uri": "gcr.io/deeplearning-platform-release/tf2-gpu.2-1:m46"
  },
  "kernelspec": {
   "display_name": "Python 3",
   "language": "python",
   "name": "python3"
  },
  "language_info": {
   "codemirror_mode": {
    "name": "ipython",
    "version": 3
   },
   "file_extension": ".py",
   "mimetype": "text/x-python",
   "name": "python",
   "nbconvert_exporter": "python",
   "pygments_lexer": "ipython3",
   "version": "3.7.6"
  }
 },
 "nbformat": 4,
 "nbformat_minor": 4
}
