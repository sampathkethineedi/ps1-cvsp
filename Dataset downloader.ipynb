{
 "cells": [
  {
   "cell_type": "code",
   "execution_count": 2,
   "metadata": {},
   "outputs": [],
   "source": [
    "import os\n",
    "import os.path as op\n",
    "import urllib.request"
   ]
  },
  {
   "cell_type": "code",
   "execution_count": 11,
   "metadata": {},
   "outputs": [],
   "source": [
    "LANG_TO_CODE = {\n",
    "    'French': 'fr',\n",
    "    'German': 'de',\n",
    "    'Dutch': 'nl',\n",
    "    'Russian': 'ru',\n",
    "    'Spanish': 'es',\n",
    "    'Italian': 'it',\n",
    "    'Turkish': 'tr',\n",
    "    'Persian': 'fa',\n",
    "    'Swedish': 'sv-SE',\n",
    "    'Mongolian': 'mn',\n",
    "    'Chinese': 'zh-CN'\n",
    "}"
   ]
  },
  {
   "cell_type": "markdown",
   "metadata": {},
   "source": [
    "This Block actually downloades the tarred data for respective languages. These .tar.gz files need to be untarred which i did from the terminal itself after the download was complete."
   ]
  },
  {
   "cell_type": "code",
   "execution_count": 15,
   "metadata": {},
   "outputs": [],
   "source": [
    "for lang in LANG_TO_CODE:\n",
    "    lang_data_path = op.join('./Audio_Data', lang)\n",
    "    if not op.isdir(lang_data_path):\n",
    "        os.makedirs(lang_data_path)\n",
    "        \n",
    "    pathToFile = op.join(lang_data_path, f'{LANG_TO_CODE[lang]}.tar.gz')\n",
    "    url = f'https://voice-prod-bundler-ee1969a6ce8178826482b88e843c335139bd3fb4.s3.amazonaws.com/cv-corpus-3/{LANG_TO_CODE[lang]}.tar.gz'\n",
    "    urllib.request.urlretrieve(url, pathToFile)"
   ]
  }
 ],
 "metadata": {
  "environment": {
   "name": "tf2-gpu.2-1.m46",
   "type": "gcloud",
   "uri": "gcr.io/deeplearning-platform-release/tf2-gpu.2-1:m46"
  },
  "kernelspec": {
   "display_name": "Python 3",
   "language": "python",
   "name": "python3"
  },
  "language_info": {
   "codemirror_mode": {
    "name": "ipython",
    "version": 3
   },
   "file_extension": ".py",
   "mimetype": "text/x-python",
   "name": "python",
   "nbconvert_exporter": "python",
   "pygments_lexer": "ipython3",
   "version": "3.7.6"
  }
 },
 "nbformat": 4,
 "nbformat_minor": 4
}
